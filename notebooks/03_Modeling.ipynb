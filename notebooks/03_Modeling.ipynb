{
 "cells": [
  {
   "metadata": {},
   "cell_type": "markdown",
   "source": [
    "## Overview\n",
    "\n",
    "This notebook is responsible for training and evaluating a deep learning model for environmental sound classification.\n",
    "The goal is to achieve high accuracy while optimizing performance and efficiency.\n",
    "\n",
    "### Methodology\n",
    "\n",
    "1. **Initial Training on Original Data** - Train the model using only the original dataset and evaluate its performance.\n",
    "2. **Data Augmentation** - Introduce additional augmented data and integrate it into the dataset.\n",
    "3. **Retraining and Improvement** - Train the model again with the combined dataset to improve accuracy.\n",
    "4. **Final Evaluation** - Compare model performance before and after augmentation using accuracy and loss metrics.\n",
    "\n",
    "### Why Not Use ViT (Vision Transformer)?\n",
    "\n",
    "Although ViT could be a potential choice, we opted not to use it due to the following reasons:\n",
    "1. **Limited Computational Resources** - ViT requires substantial GPU power.\n",
    "2. **Excellent CNN Results** - Our CNN model achieves high accuracy, making ViT unnecessary.\n",
    "3. **Dataset Size** - ViT performs best on large datasets, whereas our dataset is relatively small.\n",
    "4. **Short Audio Clips** - Since audio clips are short (≤5 sec), learning long-term context is unnecessary.\n",
    "\n",
    "## Table of Contents\n",
    "\n",
    "- [1. Load Dependencies and Define Paths](#1-load-dependencies-and-define-paths)\n",
    "- [2. Load and Split Dataset](#2-load-and-split-dataset)\n",
    "- [3. Define Model Architecture](#3-define-model-architecture)\n",
    "- [4. Train on Original Data](#4-train-on-original-data)\n",
    "- [5. Load and Train on Combined Dataset](#5-load-and-train-on-combined-dataset)\n",
    "- [6. Evaluation](#6-evaluation)"
   ],
   "id": "d9a30bc92c066d17"
  },
  {
   "metadata": {},
   "cell_type": "markdown",
   "source": [
    "## 1. Load Dependencies and Define Paths\n",
    "\n",
    "This section imports required libraries and sets up paths for dataset and model storage."
   ],
   "id": "d4664fac9b0a5d23"
  },
  {
   "cell_type": "code",
   "id": "0be5ec44-9fb3-497a-947a-aa135b84f7c1",
   "metadata": {
    "id": "0be5ec44-9fb3-497a-947a-aa135b84f7c1",
    "ExecuteTime": {
     "end_time": "2025-02-03T10:43:51.208239Z",
     "start_time": "2025-02-03T10:42:49.093769Z"
    }
   },
   "source": [
    "import os\n",
    "import numpy as np\n",
    "import pandas as pd\n",
    "import torch\n",
    "import torch.nn as nn\n",
    "from torch.utils.data import DataLoader, Dataset, random_split, Subset\n",
    "from torchvision import models, transforms"
   ],
   "outputs": [],
   "execution_count": 2
  },
  {
   "metadata": {
    "ExecuteTime": {
     "end_time": "2025-02-03T10:43:55.230307Z",
     "start_time": "2025-02-03T10:43:55.199573Z"
    }
   },
   "cell_type": "code",
   "source": [
    "import sys\n",
    "from pathlib import Path\n",
    "import importlib\n",
    "\n",
    "# Function to automatically find the project root directory\n",
    "def find_project_root():\n",
    "    current_path = Path(os.getcwd()).resolve()\n",
    "    while current_path != current_path.parent:  # Ensures we don't go beyond the system root\n",
    "        if (current_path / \"config.py\").exists():\n",
    "            return current_path\n",
    "        current_path = current_path.parent\n",
    "    raise FileNotFoundError(\"⚠️ config.py not found! Make sure it is in the project root directory.\")\n",
    "\n",
    "# Determine the project root directory\n",
    "project_root = find_project_root()\n",
    "\n",
    "# Add the project root to Python's search path (if it's not already there)\n",
    "if str(project_root) not in sys.path:\n",
    "    sys.path.append(str(project_root))\n",
    "\n",
    "# Reload config.py to ensure that any changes are updated\n",
    "import config\n",
    "importlib.reload(config)\n"
   ],
   "id": "50d56cbdcd0b135c",
   "outputs": [
    {
     "data": {
      "text/plain": [
       "<module 'config' from 'C:\\\\Users\\\\יהונתן רבוח\\\\OneDrive - Holon Institute of Technology\\\\Deep Learning Project\\\\config.py'>"
      ]
     },
     "execution_count": 3,
     "metadata": {},
     "output_type": "execute_result"
    }
   ],
   "execution_count": 3
  },
  {
   "metadata": {
    "id": "NucVDmVpM3B8",
    "ExecuteTime": {
     "end_time": "2025-02-03T10:46:01.742838Z",
     "start_time": "2025-02-03T10:46:01.734218Z"
    }
   },
   "cell_type": "code",
   "source": [
    "from config import AUDIO_FILES_PATH, CSV_FILE_PATH, PROCESSED_DATA_DIR\n",
    "\n",
    "PROCESSED_DATA_PATH = os.path.join(PROCESSED_DATA_DIR, 'processed_data')\n",
    "AUGMENTED_DATA_PATH = os.path.join(PROCESSED_DATA_DIR, 'augmented_data')\n"
   ],
   "id": "NucVDmVpM3B8",
   "outputs": [],
   "execution_count": 4
  },
  {
   "metadata": {},
   "cell_type": "markdown",
   "source": [
    "## 2. Load and Split Dataset\n",
    "\n",
    "This section defines a custom dataset class for spectrogram loading, applies transformations, and splits the dataset into training, validation, and test sets.\n"
   ],
   "id": "fc486f2c74b8c4a8"
  },
  {
   "metadata": {},
   "cell_type": "markdown",
   "source": [
    "### Define Custom Dataset\n",
    "\n",
    "This cell defines a PyTorch `Dataset` class for loading spectrogram data.\n",
    "\n",
    "#### Purpose:\n",
    "- Load spectrograms from original and augmented datasets.\n",
    "- Apply transformations if specified.\n",
    "- Exclude specific files if needed.\n",
    "\n",
    "#### Inputs:\n",
    "- CSV file with metadata.\n",
    "- Paths to original and augmented spectrograms.\n",
    "- Optional transformations.\n",
    "\n",
    "#### Outputs:\n",
    "- A dataset containing spectrogram tensors and labels.\n",
    "- Supports indexing and length retrieval for PyTorch `DataLoader`.\n"
   ],
   "id": "a4b26361ee2addf7"
  },
  {
   "cell_type": "code",
   "source": [
    "class CombinedESC50Dataset(Dataset):\n",
    "    def __init__(self, csv_path, original_dir, augmented_dir=None, exclude_files=None, transform=None):\n",
    "        self.data = pd.read_csv(csv_path)\n",
    "        self.original_dir = original_dir\n",
    "        self.augmented_dir = augmented_dir\n",
    "        self.transform = transform\n",
    "        self.spectrograms = []\n",
    "        self.labels = []\n",
    "        self.files = []\n",
    "\n",
    "        if exclude_files:\n",
    "            self.exclude_files = {os.path.basename(f).split('_processed')[0] for f in exclude_files}\n",
    "        else:\n",
    "            self.exclude_files = set()\n",
    "\n",
    "        self._load_data()\n",
    "\n",
    "    def _load_data(self):\n",
    "        for _, row in self.data.iterrows():\n",
    "            category = row['category']\n",
    "            base_filename = os.path.splitext(row['filename'])[0]\n",
    "\n",
    "            if base_filename in self.exclude_files:\n",
    "               continue\n",
    "\n",
    "            # Load original spectrogram\n",
    "            spectrogram_path = os.path.join(self.original_dir, category, f\"{base_filename}_processed.npy\")\n",
    "            if os.path.exists(spectrogram_path):\n",
    "                spectrogram = np.load(spectrogram_path)\n",
    "                if self.transform:\n",
    "                    spectrogram = self.transform(spectrogram)\n",
    "                self.spectrograms.append(spectrogram)\n",
    "                self.labels.append(row['target'])\n",
    "                self.files.append(spectrogram_path)\n",
    "\n",
    "            # Load augmented spectrograms\n",
    "            if self.augmented_dir:\n",
    "                category_dir = os.path.join(self.augmented_dir, category)\n",
    "                if os.path.exists(category_dir):\n",
    "                    for aug_file in os.listdir(category_dir):\n",
    "                        if base_filename in aug_file:\n",
    "                            aug_path = os.path.join(category_dir, aug_file)\n",
    "                            spectrogram = np.load(aug_path, allow_pickle=True).item()[\"spectrogram\"]\n",
    "                            if self.transform:\n",
    "                                spectrogram = self.transform(spectrogram)\n",
    "                            self.spectrograms.append(spectrogram)\n",
    "                            self.labels.append(row['target'])\n",
    "                            self.files.append(aug_path)\n",
    "\n",
    "    def __len__(self):\n",
    "        return len(self.spectrograms)\n",
    "\n",
    "    def __getitem__(self, idx):\n",
    "        return self.spectrograms[idx], self.labels[idx]"
   ],
   "metadata": {
    "id": "WUKctIQmTHt0",
    "ExecuteTime": {
     "end_time": "2025-01-22T17:48:57.445334Z",
     "start_time": "2025-01-22T17:48:57.427141Z"
    }
   },
   "id": "WUKctIQmTHt0",
   "outputs": [],
   "execution_count": 125
  },
  {
   "metadata": {
    "ExecuteTime": {
     "end_time": "2025-01-30T20:43:41.177500Z",
     "start_time": "2025-01-30T20:43:41.089205Z"
    }
   },
   "cell_type": "code",
   "source": [
    "# Convert spectrograms to tensors and normalize them for stable training.\n",
    "transform_cnn = transforms.Compose([\n",
    "    transforms.ToTensor(),                       # Converts numpy array to tensor [1, H, W]\n",
    "    transforms.Normalize(mean=[0.5], std=[0.5])  # Normalize single-channel data\n",
    "])"
   ],
   "id": "9e53c7440a39b66b",
   "outputs": [
    {
     "ename": "NameError",
     "evalue": "name 'transforms' is not defined",
     "output_type": "error",
     "traceback": [
      "\u001B[1;31m---------------------------------------------------------------------------\u001B[0m",
      "\u001B[1;31mNameError\u001B[0m                                 Traceback (most recent call last)",
      "Cell \u001B[1;32mIn[2], line 1\u001B[0m\n\u001B[1;32m----> 1\u001B[0m transform_cnn \u001B[38;5;241m=\u001B[39m \u001B[43mtransforms\u001B[49m\u001B[38;5;241m.\u001B[39mCompose([\n\u001B[0;32m      2\u001B[0m     transforms\u001B[38;5;241m.\u001B[39mToTensor(),  \u001B[38;5;66;03m# Converts numpy array to tensor [1, H, W]\u001B[39;00m\n\u001B[0;32m      3\u001B[0m     transforms\u001B[38;5;241m.\u001B[39mNormalize(mean\u001B[38;5;241m=\u001B[39m[\u001B[38;5;241m0.5\u001B[39m], std\u001B[38;5;241m=\u001B[39m[\u001B[38;5;241m0.5\u001B[39m])  \u001B[38;5;66;03m# Normalize single-channel data\u001B[39;00m\n\u001B[0;32m      4\u001B[0m ])\n",
      "\u001B[1;31mNameError\u001B[0m: name 'transforms' is not defined"
     ]
    }
   ],
   "execution_count": 2
  },
  {
   "metadata": {
    "ExecuteTime": {
     "end_time": "2025-01-22T16:34:15.921586Z",
     "start_time": "2025-01-22T16:34:13.270465Z"
    }
   },
   "cell_type": "code",
   "source": [
    "# Load original dataset\n",
    "dataset_original = CombinedESC50Dataset(\n",
    "    csv_path=CSV_FILE_PATH,\n",
    "    original_dir=PROCESSED_DATA_PATH,\n",
    "    transform=transform_cnn\n",
    ")"
   ],
   "id": "997dafee3ac40da1",
   "outputs": [],
   "execution_count": 62
  },
  {
   "metadata": {
    "ExecuteTime": {
     "end_time": "2025-01-22T16:53:08.213562Z",
     "start_time": "2025-01-22T16:53:08.203070Z"
    }
   },
   "cell_type": "code",
   "source": [
    "# Split original dataset\n",
    "all_indices = list(range(len(dataset_original)))\n",
    "train_val_indices, test_indices = random_split(all_indices, [int(0.85 * len(all_indices)), len(all_indices) - int(0.85 * len(all_indices))])\n",
    "train_indices, val_indices = random_split(train_val_indices, [int(0.7 * len(train_val_indices)), len(train_val_indices) - int(0.7 * len(train_val_indices))])\n",
    "\n",
    "train_dataset_original = Subset(dataset_original, train_indices)\n",
    "val_dataset_original = Subset(dataset_original, val_indices)\n",
    "test_dataset = Subset(dataset_original, test_indices)\n",
    "\n",
    "print(f\"Original Data -> Training samples: {len(train_dataset_original)}, Validation samples: {len(val_dataset_original)}, Test samples: {len(test_dataset)}\")"
   ],
   "id": "7c27dd1b451e284b",
   "outputs": [
    {
     "name": "stdout",
     "output_type": "stream",
     "text": [
      "Original Data -> Training samples: 1190, Validation samples: 510, Test samples: 300\n"
     ]
    }
   ],
   "execution_count": 91
  },
  {
   "metadata": {},
   "cell_type": "markdown",
   "source": [
    "## 3. Define Model Architecture\n",
    "\n",
    "This section defines the CNN model, sets training parameters, and initializes data loaders.\n"
   ],
   "id": "aedeb7096f79c321"
  },
  {
   "metadata": {},
   "cell_type": "markdown",
   "source": [
    "### Define CNN Model\n",
    "\n",
    "This cell defines a CNN model based on ResNet-18 for environmental sound classification.\n",
    "\n",
    "#### Purpose:\n",
    "- Utilize a pre-trained ResNet-18 architecture.\n",
    "- Modify the first convolutional layer to accept single-channel (grayscale) spectrograms.\n",
    "- Adjust the fully connected layer to match the number of target classes.\n",
    "\n",
    "#### Inputs:\n",
    "- A spectrogram tensor of shape `[batch_size, 1, height, width]`.\n",
    "\n",
    "#### Outputs:\n",
    "- Model predictions in the form of class logits.\n"
   ],
   "id": "b943319d608cef23"
  },
  {
   "metadata": {
    "ExecuteTime": {
     "end_time": "2025-01-22T16:37:20.483537Z",
     "start_time": "2025-01-22T16:37:20.473352Z"
    }
   },
   "cell_type": "code",
   "source": [
    "class CNNModel(nn.Module):\n",
    "    def __init__(self, num_classes):\n",
    "        super(CNNModel, self).__init__()\n",
    "        self.model = models.resnet18(weights=models.ResNet18_Weights.DEFAULT)\n",
    "        self.model.conv1 = nn.Conv2d(1, 64, kernel_size=(7, 7), stride=(2, 2), padding=(3, 3), bias=False)\n",
    "        self.model.fc = nn.Linear(self.model.fc.in_features, num_classes)\n",
    "\n",
    "    def forward(self, x):\n",
    "        return self.model(x)\n"
   ],
   "id": "b1f95d904c5b9b32",
   "outputs": [],
   "execution_count": 71
  },
  {
   "metadata": {
    "ExecuteTime": {
     "end_time": "2025-01-22T17:10:33.842049Z",
     "start_time": "2025-01-22T17:10:33.570438Z"
    }
   },
   "cell_type": "code",
   "source": [
    "# Training setup\n",
    "num_classes = len(dataset_original.data['target'].unique())\n",
    "device = torch.device(\"cuda\" if torch.cuda.is_available() else \"cpu\")\n",
    "\n",
    "criterion = nn.CrossEntropyLoss()\n",
    "learning_rate = 0.001\n",
    "epochs = 10\n",
    "\n",
    "cnn_model = CNNModel(num_classes=num_classes)\n",
    "optimizer_cnn = torch.optim.Adam(cnn_model.parameters(), lr=learning_rate)"
   ],
   "id": "2c11d0988c224ae9",
   "outputs": [],
   "execution_count": 104
  },
  {
   "metadata": {
    "ExecuteTime": {
     "end_time": "2025-01-22T16:47:03.929707Z",
     "start_time": "2025-01-22T16:47:03.922283Z"
    }
   },
   "cell_type": "code",
   "outputs": [],
   "execution_count": 81,
   "source": [
    "# Data loaders\n",
    "batch_size = 64\n",
    "train_loader_original = DataLoader(train_dataset_original, batch_size=batch_size, shuffle=True)\n",
    "val_loader_original = DataLoader(val_dataset_original, batch_size=batch_size, shuffle=False)\n",
    "test_loader = DataLoader(test_dataset, batch_size=batch_size, shuffle=False)"
   ],
   "id": "5ccba70f7b16e7e1"
  },
  {
   "metadata": {},
   "cell_type": "markdown",
   "source": [
    "## 4. Train on Original Data\n",
    "\n",
    "This section implements the training loop, evaluates model performance, and visualizes training progress on the original data.\n"
   ],
   "id": "3b6ec62c93fa6de"
  },
  {
   "metadata": {
    "ExecuteTime": {
     "end_time": "2025-01-22T16:53:13.989739Z",
     "start_time": "2025-01-22T16:53:13.976132Z"
    }
   },
   "cell_type": "code",
   "outputs": [],
   "execution_count": 92,
   "source": [
    "def train_model(model, train_loader, val_loader, criterion, optimizer, device, num_epochs=10):\n",
    "    model.to(device)\n",
    "\n",
    "    train_losses, val_losses, train_accs, val_accs = [], [], [], []\n",
    "\n",
    "    for epoch in range(num_epochs):\n",
    "        model.train()\n",
    "        running_loss = 0.0\n",
    "        correct = 0\n",
    "\n",
    "        for inputs, labels in train_loader:\n",
    "            inputs, labels = inputs.to(device).float(), labels.to(device)\n",
    "            optimizer.zero_grad()\n",
    "\n",
    "            outputs = model(inputs)\n",
    "            loss = criterion(outputs, labels)\n",
    "            loss.backward()\n",
    "            optimizer.step()\n",
    "\n",
    "            running_loss += loss.item() * inputs.size(0)\n",
    "            correct += (outputs.argmax(1) == labels).sum().item()\n",
    "\n",
    "        train_loss = running_loss / len(train_loader.dataset)\n",
    "        train_acc = correct / len(train_loader.dataset)\n",
    "        train_losses.append(train_loss)\n",
    "        train_accs.append(train_acc)\n",
    "\n",
    "        model.eval()\n",
    "        val_loss = 0.0\n",
    "        val_correct = 0\n",
    "        with torch.no_grad():\n",
    "            for inputs, labels in val_loader:\n",
    "                inputs, labels = inputs.to(device).float(), labels.to(device)\n",
    "                outputs = model(inputs)\n",
    "                loss = criterion(outputs, labels)\n",
    "                val_loss += loss.item() * inputs.size(0)\n",
    "                val_correct += (outputs.argmax(1) == labels).sum().item()\n",
    "\n",
    "        val_loss /= len(val_loader.dataset)\n",
    "        val_acc = val_correct / len(val_loader.dataset)\n",
    "        val_losses.append(val_loss)\n",
    "        val_accs.append(val_acc)\n",
    "\n",
    "        print(f\"Epoch {epoch + 1}/{num_epochs} - Train Loss: {train_loss:.4f}, Train Acc: {train_acc:.4f}, Val Loss: {val_loss:.4f}, Val Acc: {val_acc:.4f}\")\n",
    "\n",
    "    return train_losses, val_losses, train_accs, val_accs\n"
   ],
   "id": "9b664f95cd445834"
  },
  {
   "metadata": {
    "ExecuteTime": {
     "end_time": "2025-01-22T17:11:48.949394Z",
     "start_time": "2025-01-22T17:10:40.164331Z"
    }
   },
   "cell_type": "code",
   "source": [
    "print(\"Training CNN with original dataset...\")\n",
    "train_losses, val_losses, train_accs, val_accs = train_model(\n",
    "    model=cnn_model,\n",
    "    train_loader=train_loader_original,\n",
    "    val_loader=val_loader_original,\n",
    "    criterion=criterion,\n",
    "    optimizer=optimizer_cnn,\n",
    "    device=device,\n",
    "    num_epochs=epochs\n",
    ")"
   ],
   "id": "45dca16a9c5d9e1d",
   "outputs": [
    {
     "name": "stdout",
     "output_type": "stream",
     "text": [
      "Training CNN with original dataset...\n",
      "Epoch 1/10 - Train Loss: 2.9101, Train Acc: 0.2571, Val Loss: 4.5046, Val Acc: 0.1471\n",
      "Epoch 2/10 - Train Loss: 1.5028, Train Acc: 0.5866, Val Loss: 1.8431, Val Acc: 0.4686\n",
      "Epoch 3/10 - Train Loss: 0.7992, Train Acc: 0.7731, Val Loss: 1.6242, Val Acc: 0.5216\n",
      "Epoch 4/10 - Train Loss: 0.5218, Train Acc: 0.8370, Val Loss: 1.5069, Val Acc: 0.6118\n",
      "Epoch 5/10 - Train Loss: 0.3576, Train Acc: 0.9000, Val Loss: 1.9141, Val Acc: 0.5235\n",
      "Epoch 6/10 - Train Loss: 0.2686, Train Acc: 0.9294, Val Loss: 1.4775, Val Acc: 0.6255\n",
      "Epoch 7/10 - Train Loss: 0.2177, Train Acc: 0.9361, Val Loss: 1.4213, Val Acc: 0.6353\n",
      "Epoch 8/10 - Train Loss: 0.1908, Train Acc: 0.9479, Val Loss: 1.4842, Val Acc: 0.6373\n",
      "Epoch 9/10 - Train Loss: 0.1424, Train Acc: 0.9630, Val Loss: 1.5269, Val Acc: 0.6235\n",
      "Epoch 10/10 - Train Loss: 0.0966, Train Acc: 0.9756, Val Loss: 1.4338, Val Acc: 0.6627\n"
     ]
    }
   ],
   "execution_count": 105
  },
  {
   "metadata": {
    "ExecuteTime": {
     "end_time": "2025-01-22T17:12:01.258113Z",
     "start_time": "2025-01-22T17:12:00.833167Z"
    }
   },
   "cell_type": "code",
   "source": [
    "import matplotlib.pyplot as plt\n",
    "def plot_training_history(train_losses, val_losses, train_accs, val_accs):\n",
    "    epochs = range(1, len(train_loss) + 1)\n",
    "\n",
    "    plt.figure(figsize=(12, 6))\n",
    "\n",
    "    # Loss Plot\n",
    "    plt.subplot(1, 2, 1)\n",
    "    plt.plot(epochs, train_losses, label=\"Training Loss\")\n",
    "    plt.plot(epochs, val_losses, label=\"Validation Loss\")\n",
    "    plt.xlabel(\"Epoch\")\n",
    "    plt.ylabel(\"Loss\")\n",
    "    plt.legend()\n",
    "    plt.title(\"Loss Over Epochs\")\n",
    "\n",
    "    # Accuracy Plot\n",
    "    plt.subplot(1, 2, 2)\n",
    "    plt.plot(epochs, train_accs, label=\"Training Accuracy\")\n",
    "    plt.plot(epochs, val_accs, label=\"Validation Accuracy\")\n",
    "    plt.xlabel(\"Epoch\")\n",
    "    plt.ylabel(\"Accuracy\")\n",
    "    plt.legend()\n",
    "    plt.title(\"Accuracy Over Epochs\")\n",
    "\n",
    "    plt.tight_layout()\n",
    "    plt.show()\n",
    "\n",
    "plot_training_history(train_losses, val_losses, train_accs, val_accs)\n"
   ],
   "id": "eefbb5a4b21e9d66",
   "outputs": [
    {
     "data": {
      "text/plain": [
       "<Figure size 1200x600 with 2 Axes>"
      ],
      "image/png": "[encoded data removed]"
     },
     "metadata": {},
     "output_type": "display_data"
    }
   ],
   "execution_count": 106
  },
  {
   "metadata": {},
   "cell_type": "markdown",
   "source": [
    "## 5. Load and Train on Combined Dataset\n",
    "\n",
    "This section loads the combined dataset, which includes both original and augmented spectrograms, and trains the CNN model on it.\n",
    "\n",
    "### Purpose:\n",
    "- Exclude test files to prevent data leakage.\n",
    "- Load both original and augmented spectrograms.\n",
    "- Split the combined dataset into training and validation sets.\n",
    "- Train the CNN model using the enhanced dataset.\n",
    "\n",
    "### Steps:\n",
    "1. **Load the Combined Dataset**: Merge original and augmented spectrograms.\n",
    "2. **Exclude Test Files**: Ensure that test samples are not included in training.\n",
    "3. **Create Data Loaders**: Prepare training and validation loaders.\n",
    "4. **Check for Overlaps**: Verify that test files do not appear in the training set.\n",
    "5. **Train the Model**: Retrain the CNN on the combined dataset."
   ],
   "id": "36e9c98691c07ad"
  },
  {
   "metadata": {
    "ExecuteTime": {
     "end_time": "2025-01-30T19:24:05.298003Z",
     "start_time": "2025-01-30T19:24:04.684679Z"
    }
   },
   "cell_type": "code",
   "source": [
    "# Load combined dataset\n",
    "exclude_files = [os.path.basename(dataset_original.files[idx]).split('_processed')[0] for idx in test_indices]\n",
    "\n",
    "dataset_combined = CombinedESC50Dataset(\n",
    "    csv_path=CSV_FILE_PATH,\n",
    "    original_dir=PROCESSED_DATA_PATH,\n",
    "    augmented_dir=AUGMENTED_DATA_PATH,\n",
    "    exclude_files=exclude_files,\n",
    "    transform=transform_cnn\n",
    ")"
   ],
   "id": "d932a40f6a94c34e",
   "outputs": [
    {
     "name": "stderr",
     "output_type": "stream",
     "text": [
      "\n",
      "KeyboardInterrupt\n",
      "\n"
     ]
    }
   ],
   "execution_count": 1
  },
  {
   "metadata": {
    "ExecuteTime": {
     "end_time": "2025-01-22T17:52:04.917735Z",
     "start_time": "2025-01-22T17:52:04.888005Z"
    }
   },
   "cell_type": "code",
   "source": [
    "train_val_indices_combined, val_indices_combined = random_split(\n",
    "    list(range(len(dataset_combined))),\n",
    "    [int(0.85 * len(dataset_combined)), len(dataset_combined) - int(0.85 * len(dataset_combined))]\n",
    ")\n",
    "train_dataset_combined = Subset(dataset_combined, train_val_indices_combined)\n",
    "val_dataset_combined = Subset(dataset_combined, val_indices_combined)\n",
    "\n",
    "train_loader_combined = DataLoader(train_dataset_combined, batch_size=batch_size, shuffle=True)\n",
    "val_loader_combined = DataLoader(val_dataset_combined, batch_size=batch_size, shuffle=False)\n",
    "\n",
    "print(f\"Combined Data: {len(dataset_combined)}, Training samples: {len(train_dataset_combined)}, Validation samples: {len(val_dataset_combined)}\")"
   ],
   "id": "a1c22095310c55e8",
   "outputs": [
    {
     "name": "stdout",
     "output_type": "stream",
     "text": [
      "Combined Data: 8143, Training samples: 6921, Validation samples: 1222\n"
     ]
    }
   ],
   "execution_count": 127
  },
  {
   "metadata": {
    "ExecuteTime": {
     "end_time": "2025-01-22T17:53:42.893303Z",
     "start_time": "2025-01-22T17:53:42.845379Z"
    }
   },
   "cell_type": "code",
   "source": [
    "import os\n",
    "\n",
    "# Step 1: Extract test filenames\n",
    "test_filenames = set([os.path.basename(dataset_original.files[idx]) for idx in test_indices])\n",
    "print(f\"Number of test files: {len(test_filenames)}\")\n",
    "\n",
    "# Step 2: Extract combined filenames\n",
    "combined_filenames = set([os.path.basename(file) for file in dataset_combined.files])\n",
    "print(f\"Number of combined files: {len(combined_filenames)}\")\n",
    "\n",
    "# Step 3: Check for overlaps\n",
    "overlap = test_filenames.intersection(combined_filenames)\n",
    "\n",
    "# Step 4: Print results\n",
    "if overlap:\n",
    "    print(f\"Overlap detected! {len(overlap)} overlapping files:\")\n",
    "    for file in overlap:\n",
    "        print(file)\n",
    "else:\n",
    "    print(\"No overlap detected between test and combined datasets.\")\n"
   ],
   "id": "ac1ad075096335ed",
   "outputs": [
    {
     "name": "stdout",
     "output_type": "stream",
     "text": [
      "Number of test files: 300\n",
      "Number of combined files: 8143\n",
      "No overlap detected between test and combined datasets.\n"
     ]
    }
   ],
   "execution_count": 128
  },
  {
   "metadata": {
    "ExecuteTime": {
     "end_time": "2025-01-22T18:00:19.415432Z",
     "start_time": "2025-01-22T17:53:59.267992Z"
    }
   },
   "cell_type": "code",
   "source": [
    "print(\"Training CNN with combined dataset...\")\n",
    "\n",
    "train_losses_combined, val_losses_combined, train_acc_combined, val_acc_combined = train_model(\n",
    "    model=cnn_model,\n",
    "    train_loader=train_loader_combined,\n",
    "    val_loader=val_loader_combined,\n",
    "    criterion=criterion,\n",
    "    optimizer=optimizer_cnn,\n",
    "    device=device,\n",
    "    num_epochs=epochs\n",
    ")"
   ],
   "id": "7ed8069f652b795d",
   "outputs": [
    {
     "name": "stdout",
     "output_type": "stream",
     "text": [
      "Training CNN with combined dataset...\n",
      "Epoch 1/10 - Train Loss: 0.0309, Train Acc: 0.9908, Val Loss: 0.0579, Val Acc: 0.9845\n",
      "Epoch 2/10 - Train Loss: 0.0462, Train Acc: 0.9886, Val Loss: 0.0648, Val Acc: 0.9795\n",
      "Epoch 3/10 - Train Loss: 0.0290, Train Acc: 0.9928, Val Loss: 0.0566, Val Acc: 0.9828\n",
      "Epoch 4/10 - Train Loss: 0.0643, Train Acc: 0.9819, Val Loss: 0.0714, Val Acc: 0.9771\n",
      "Epoch 5/10 - Train Loss: 0.0347, Train Acc: 0.9912, Val Loss: 0.0773, Val Acc: 0.9861\n",
      "Epoch 6/10 - Train Loss: 0.1207, Train Acc: 0.9678, Val Loss: 0.1404, Val Acc: 0.9583\n",
      "Epoch 7/10 - Train Loss: 0.0880, Train Acc: 0.9762, Val Loss: 0.0818, Val Acc: 0.9738\n",
      "Epoch 8/10 - Train Loss: 0.0386, Train Acc: 0.9892, Val Loss: 0.0251, Val Acc: 0.9935\n",
      "Epoch 9/10 - Train Loss: 0.0828, Train Acc: 0.9803, Val Loss: 0.1208, Val Acc: 0.9673\n",
      "Epoch 10/10 - Train Loss: 0.0960, Train Acc: 0.9720, Val Loss: 0.0534, Val Acc: 0.9828\n"
     ]
    }
   ],
   "execution_count": 129
  },
  {
   "metadata": {},
   "cell_type": "markdown",
   "source": [
    "## 6. Evaluation\n",
    "\n",
    "This section visualizes validation accuracy for both the original and combined datasets and evaluates the trained CNN model on the test set."
   ],
   "id": "dc8d616375fa08c0"
  },
  {
   "metadata": {
    "ExecuteTime": {
     "end_time": "2025-01-22T18:01:42.114066Z",
     "start_time": "2025-01-22T18:01:41.926873Z"
    }
   },
   "cell_type": "code",
   "source": [
    "plt.plot(val_accs, label=\"Validation Accuracy (Original Only)\")\n",
    "plt.plot(val_acc_combined, label=\"Validation Accuracy (Combined)\")\n",
    "plt.xlabel(\"Epoch\")\n",
    "plt.ylabel(\"Accuracy\")\n",
    "plt.title(\"Validation Accuracy Comparison\")\n",
    "plt.legend()\n",
    "plt.show()"
   ],
   "id": "92c0608aab021f10",
   "outputs": [
    {
     "data": {
      "text/plain": [
       "<Figure size 640x480 with 1 Axes>"
      ],
      "image/png": "[encoded data removed]"
     },
     "metadata": {},
     "output_type": "display_data"
    }
   ],
   "execution_count": 130
  },
  {
   "metadata": {
    "ExecuteTime": {
     "end_time": "2025-01-22T17:09:32.966957Z",
     "start_time": "2025-01-22T17:09:32.958019Z"
    }
   },
   "cell_type": "code",
   "source": [
    "# Evaluate CNN on test set\n",
    "def evaluate_model(model, test_loader, device):\n",
    "    model.eval()\n",
    "    model.to(device)\n",
    "    test_correct = 0\n",
    "    with torch.no_grad():\n",
    "        for inputs, labels in test_loader:\n",
    "            inputs, labels = inputs.to(device).float(), labels.to(device)\n",
    "            outputs = model(inputs)\n",
    "            test_correct += (outputs.argmax(1) == labels).sum().item()\n",
    "\n",
    "    test_acc = 100 * test_correct / len(test_loader.dataset)\n",
    "    return test_acc"
   ],
   "id": "3dc5e9fc31665c9e",
   "outputs": [],
   "execution_count": 102
  },
  {
   "metadata": {
    "ExecuteTime": {
     "end_time": "2025-01-22T18:01:51.380686Z",
     "start_time": "2025-01-22T18:01:50.707403Z"
    }
   },
   "cell_type": "code",
   "source": [
    "print(\"Evaluating CNN on test set...\")\n",
    "cnn_test_acc = evaluate_model(cnn_model, test_loader, device)\n",
    "print(f\"CNN Test Accuracy: {cnn_test_acc:.2f}%\")"
   ],
   "id": "cbd257c39b5b9eed",
   "outputs": [
    {
     "name": "stdout",
     "output_type": "stream",
     "text": [
      "Evaluating CNN on test set...\n",
      "CNN Test Accuracy: 99.33%\n"
     ]
    }
   ],
   "execution_count": 131
  },
  {
   "metadata": {
    "ExecuteTime": {
     "end_time": "2025-01-22T17:22:25.962271Z",
     "start_time": "2025-01-22T17:22:25.839915Z"
    }
   },
   "cell_type": "code",
   "source": [
    "torch.save(cnn_model.state_dict(), os.path.join(MODEL_DIR, 'resnet18_best_model.pth'))\n",
    "np.savez(os.path.join(MODEL_DIR, 'training_history.npz'),\n",
    "         train_losses=train_losses_combined, val_losses=val_losses_combined,\n",
    "         train_accs=train_acc_combined, val_accs=val_acc_combined)"
   ],
   "id": "90ad99443b40937b",
   "outputs": [],
   "execution_count": 111
  },
  {
   "metadata": {},
   "cell_type": "code",
   "outputs": [],
   "execution_count": null,
   "source": "",
   "id": "2782b8a7fa62d28a"
  },
  {
   "metadata": {},
   "cell_type": "markdown",
   "source": [
    "## 7. Summary and Conclusion\n",
    "\n",
    "### Summary\n",
    "\n",
    "This project focused on environmental sound classification using deep learning. Initially, we trained a CNN model on the **original dataset** and then introduced **data augmentation** to create a **combined dataset** with significantly more samples. After retraining the model with the combined dataset, we observed a substantial improvement in validation and test accuracy.\n",
    "\n",
    "### Performance Comparison\n",
    "\n",
    "| Dataset        | Total Samples | Train Samples | Validation Samples | Test Samples | Train Accuracy | Validation Accuracy | Test Accuracy |\n",
    "|---------------|--------------|---------------|---------------------|--------------|----------------|----------------------|---------------|\n",
    "| **Original**  | 2000         | 1190          | 510                 | 300          | 97.56%         | 66.27%               | -             |\n",
    "| **Combined**  | 8143         | 6921          | 1222                | 300          | 97.20%         | **98.28%**           | **99.33%**    |\n",
    "\n",
    "### Conclusions\n",
    "\n",
    "1. **Significant Accuracy Improvement**\n",
    "   - Training with only original data led to moderate validation accuracy (**66.27%**).\n",
    "   - Adding augmented data drastically improved validation accuracy to **98.28%**.\n",
    "   - The final test evaluation yielded an impressive **99.33% accuracy**.\n",
    "\n",
    "2. **Impact of Data Augmentation**\n",
    "   - The **original dataset** was relatively small (2000 samples).\n",
    "   - The **combined dataset** (8143 samples) provided the model with a more diverse and enriched training set.\n",
    "   - As a result, the model generalized better to unseen data.\n",
    "\n",
    "3. **Training Stability**\n",
    "   - Despite the increased dataset size, the model's training accuracy remained stable (**97.56% vs. 97.20%**), indicating no overfitting.\n",
    "   - The validation accuracy improvement proves that the model **benefited from additional training data**.\n",
    "\n",
    "### Final Thoughts\n",
    "\n",
    "- Training only on the **original dataset** was insufficient for achieving high generalization.\n",
    "- **Augmenting the dataset** led to an almost perfect classification model with **99.33% accuracy**.\n",
    "- **Data augmentation is a crucial technique** in improving model performance, especially for limited datasets.\n",
    "\n",
    "This project successfully demonstrated the power of **deep learning and data augmentation** in environmental sound classification.\n"
   ],
   "id": "a955315d3afce366"
  }
 ],
 "metadata": {
  "kernelspec": {
   "display_name": "Python 3 (ipykernel)",
   "name": "python3",
   "language": "python"
  },
  "language_info": {
   "codemirror_mode": {
    "name": "ipython",
    "version": 3
   },
   "file_extension": ".py",
   "mimetype": "text/x-python",
   "name": "python",
   "nbconvert_exporter": "python",
   "pygments_lexer": "ipython3",
   "version": "3.12.7"
  },
  "colab": {
   "provenance": [],
   "gpuType": "V28"
  },
  "accelerator": "TPU"
 },
 "nbformat": 4,
 "nbformat_minor": 5
}
